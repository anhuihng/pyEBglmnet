{
 "cells": [
  {
   "cell_type": "code",
   "execution_count": 1,
   "id": "5cabf0b1",
   "metadata": {},
   "outputs": [],
   "source": [
    "import os"
   ]
  },
  {
   "cell_type": "code",
   "execution_count": 2,
   "id": "e2944eb8",
   "metadata": {},
   "outputs": [],
   "source": [
    "# with sparseSEM-env kernel, the following is not needed\n",
    "#!python -m pip install -r requirements.txt > install_log.out"
   ]
  },
  {
   "cell_type": "code",
   "execution_count": 3,
   "id": "05478d9c",
   "metadata": {},
   "outputs": [
    {
     "data": {
      "text/plain": [
       "'/Users/anhui/Documents/Python_Projects/pyEBglmnet'"
      ]
     },
     "execution_count": 3,
     "metadata": {},
     "output_type": "execute_result"
    }
   ],
   "source": [
    "os.getcwd()"
   ]
  },
  {
   "cell_type": "code",
   "execution_count": 4,
   "id": "07fa0105",
   "metadata": {},
   "outputs": [],
   "source": [
    "import  numpy as np\n",
    "import ctypes\n",
    "import pandas as pd"
   ]
  },
  {
   "cell_type": "code",
   "execution_count": 6,
   "id": "62d8b7dc",
   "metadata": {},
   "outputs": [],
   "source": [
    "\n",
    "\n",
    "EBglmnet_so = 'EBglmnet.cpython-310-darwin.so'\n",
    "currDir = os.getcwd()\n",
    "\n",
    "EBglmnet_so = currDir + '/build/lib.macosx-10.9-x86_64-cpython-310/EBglmnet.cpython-310-darwin.so'\n",
    "EBglmnetLib = ctypes.cdll.LoadLibrary(EBglmnet_so)"
   ]
  },
  {
   "cell_type": "code",
   "execution_count": 7,
   "id": "5b049f6e",
   "metadata": {},
   "outputs": [],
   "source": [
    "baseDataDir = './data/'\n",
    "\n",
    "\n",
    "\n",
    "# Read the CSV file using pandas\n",
    "df = pd.read_csv(baseDataDir + 'statex77.csv')\n",
    "\n",
    "\n",
    "from EBglmnet.EBelasticNet import EBelasticNet_Gaussian\n",
    "Target = df['Life Exp']\n",
    "BASIS = df[['Population', 'Income', 'Illiteracy', 'Murder', 'HS Grad', 'Frost', 'Area']]\n"
   ]
  },
  {
   "cell_type": "code",
   "execution_count": 7,
   "id": "328f6192",
   "metadata": {},
   "outputs": [
    {
     "data": {
      "text/plain": [
       "<module 'EBelasticNet' from '/Users/anhui/Documents/Python_Projects/pyEBglmnet/EBglmnet/EBelasticNet.py'>"
      ]
     },
     "execution_count": 7,
     "metadata": {},
     "output_type": "execute_result"
    }
   ],
   "source": [
    "# reload packages\n",
    "#no need to run\n",
    "#\n",
    "\n",
    "import importlib\n",
    "import sys\n",
    "import importlib.util\n",
    "\n",
    "module_path = \"/Users/anhui/Documents/Python_Projects/pyEBglmnet/EBglmnet/EBelasticNet.py\"  # Replace with the actual path to the module file\n",
    "\n",
    "module_name = \"EBelasticNet\"  # Replace with the actual module name\n",
    "\n",
    "spec = importlib.util.spec_from_file_location(module_name, module_path)\n",
    "module = importlib.util.module_from_spec(spec)\n",
    "sys.modules[module_name] = module\n",
    "spec.loader.exec_module(module)\n",
    "\n",
    "importlib.reload(module)\n"
   ]
  },
  {
   "cell_type": "markdown",
   "id": "ef956ce1",
   "metadata": {},
   "source": [
    "# \n",
    "# Linear EBelastic net"
   ]
  },
  {
   "cell_type": "code",
   "execution_count": null,
   "id": "b7c57126",
   "metadata": {},
   "outputs": [],
   "source": []
  },
  {
   "cell_type": "code",
   "execution_count": 8,
   "id": "6dad2f37",
   "metadata": {},
   "outputs": [],
   "source": [
    "Lambda = 0.1\n",
    "Alpha = 0.1\n",
    "output = EBelasticNet_Gaussian(BASIS.to_numpy(), Target.to_numpy(), Lambda, Alpha, verbose=0)\n"
   ]
  },
  {
   "cell_type": "code",
   "execution_count": 9,
   "id": "98c22112",
   "metadata": {},
   "outputs": [
    {
     "data": {
      "text/plain": [
       "dict_keys(['fit', 'WaldScore', 'Intercept', 'residual variance', 'hyperparameters'])"
      ]
     },
     "execution_count": 9,
     "metadata": {},
     "output_type": "execute_result"
    }
   ],
   "source": [
    "output.keys()"
   ]
  },
  {
   "cell_type": "code",
   "execution_count": 10,
   "id": "59b4d1d6",
   "metadata": {},
   "outputs": [
    {
     "name": "stdout",
     "output_type": "stream",
     "text": [
      "   predictor      beta  posterior variance   t-value       p-value\n",
      "0        1.0  0.000007        1.564910e-10  0.546778  5.870125e-01\n",
      "1        3.0 -0.324633        2.635916e-02  1.999525  5.111216e-02\n",
      "2        4.0 -0.174588        7.482910e-04  6.382337  6.008076e-08\n"
     ]
    }
   ],
   "source": [
    "fit = output['fit']\n",
    "print(fit)"
   ]
  },
  {
   "cell_type": "code",
   "execution_count": 12,
   "id": "1f4a584d",
   "metadata": {},
   "outputs": [
    {
     "data": {
      "text/plain": [
       "72.52275354207875"
      ]
     },
     "execution_count": 12,
     "metadata": {},
     "output_type": "execute_result"
    }
   ],
   "source": [
    "output['Intercept']"
   ]
  },
  {
   "cell_type": "code",
   "execution_count": 13,
   "id": "f16ab256",
   "metadata": {},
   "outputs": [
    {
     "name": "stdout",
     "output_type": "stream",
     "text": [
      "{'Intercept': 72.52275354207875,\n",
      " 'WaldScore': 229.7307564887151,\n",
      " 'fit':    predictor      beta  posterior variance   t-value       p-value\n",
      "0        1.0  0.000007        1.564910e-10  0.546778  5.870125e-01\n",
      "1        3.0 -0.324633        2.635916e-02  1.999525  5.111216e-02\n",
      "2        4.0 -0.174588        7.482910e-04  6.382337  6.008076e-08,\n",
      " 'hyperparameters': [0.1, 0.1],\n",
      " 'residual variance': 0.7609002962862019}\n"
     ]
    }
   ],
   "source": [
    "import pprint\n",
    "pprint.pprint(output)\n"
   ]
  },
  {
   "cell_type": "markdown",
   "id": "a9f1fc22",
   "metadata": {},
   "source": [
    "#\n",
    "# Linear EBlasso-NEG\n"
   ]
  },
  {
   "cell_type": "code",
   "execution_count": 8,
   "id": "6703e039",
   "metadata": {},
   "outputs": [],
   "source": [
    "from EBglmnet.EBlassoNEG import EBlassoNEG_Gaussian"
   ]
  },
  {
   "cell_type": "code",
   "execution_count": 9,
   "id": "a63af20c",
   "metadata": {},
   "outputs": [],
   "source": [
    "gamma_a = 0.1\n",
    "gamma_b = 0.1\n",
    "output = EBlassoNEG_Gaussian(BASIS.to_numpy(), Target.to_numpy(), gamma_a, gamma_b, verbose=0)"
   ]
  },
  {
   "cell_type": "code",
   "execution_count": 10,
   "id": "da017189",
   "metadata": {},
   "outputs": [
    {
     "name": "stdout",
     "output_type": "stream",
     "text": [
      "{'Intercept': 72.88376302439065,\n",
      " 'WaldScore': 364.8527444396882,\n",
      " 'fit':    predictor      beta  posterior variance    t-value  p-value\n",
      "0        4.0 -0.271589            0.000202  19.101119      0.0,\n",
      " 'hyperparameters': [0.1, 0.1],\n",
      " 'residual variance': 0.6912820889588811}\n"
     ]
    }
   ],
   "source": [
    "import pprint\n",
    "pprint.pprint(output)"
   ]
  },
  {
   "cell_type": "code",
   "execution_count": null,
   "id": "2dd479e6",
   "metadata": {},
   "outputs": [],
   "source": []
  },
  {
   "cell_type": "markdown",
   "id": "f8d2b329",
   "metadata": {},
   "source": [
    "#\n",
    "# Debuging cells"
   ]
  },
  {
   "cell_type": "code",
   "execution_count": 11,
   "id": "aa2a2189",
   "metadata": {},
   "outputs": [],
   "source": [
    "WaldScore = np.zeros(1)"
   ]
  },
  {
   "cell_type": "code",
   "execution_count": 12,
   "id": "356b9459",
   "metadata": {},
   "outputs": [],
   "source": [
    "WaldScore = np.asfortranarray(WaldScore);\n",
    "WaldScore = WaldScore.ctypes.data_as(ctypes.POINTER(ctypes.c_double));"
   ]
  },
  {
   "cell_type": "code",
   "execution_count": 13,
   "id": "21a8f9e7",
   "metadata": {},
   "outputs": [],
   "source": [
    "wald = np.ctypeslib.as_array(WaldScore, shape=(1, 1));"
   ]
  },
  {
   "cell_type": "code",
   "execution_count": 14,
   "id": "75ea10af",
   "metadata": {},
   "outputs": [
    {
     "data": {
      "text/plain": [
       "0.0"
      ]
     },
     "execution_count": 14,
     "metadata": {},
     "output_type": "execute_result"
    }
   ],
   "source": [
    "wald[0,0]"
   ]
  },
  {
   "cell_type": "code",
   "execution_count": 15,
   "id": "31662e34",
   "metadata": {},
   "outputs": [],
   "source": [
    "# inside the function"
   ]
  },
  {
   "cell_type": "code",
   "execution_count": 16,
   "id": "ee96dcee",
   "metadata": {},
   "outputs": [],
   "source": [
    "Xinput = BASIS\n",
    "yinput = Target"
   ]
  },
  {
   "cell_type": "code",
   "execution_count": 17,
   "id": "ff869372",
   "metadata": {},
   "outputs": [],
   "source": [
    "BASIS =  BASIS.to_numpy()\n",
    "Target = Target.to_numpy()"
   ]
  },
  {
   "cell_type": "code",
   "execution_count": 18,
   "id": "a53da6ae",
   "metadata": {},
   "outputs": [],
   "source": [
    "verbose = 1"
   ]
  },
  {
   "cell_type": "code",
   "execution_count": 19,
   "id": "08d97e1a",
   "metadata": {},
   "outputs": [
    {
     "name": "stdout",
     "output_type": "stream",
     "text": [
      "Empirical Bayes Elastic Net Gaussian Model\n"
     ]
    }
   ],
   "source": [
    "n, k = BASIS.shape\n",
    "epis = False\n",
    "if verbose > 0:\n",
    "    print(\"Empirical Bayes Elastic Net Gaussian Model\")\n",
    "\n",
    "if not epis:\n",
    "    N_effect = k\n",
    "    Beta = np.zeros(N_effect * 4)\n",
    "\n",
    "WaldScore = np.zeros(1)\n",
    "intercept = np.zeros(1)\n",
    "residual = np.zeros(1)\n",
    "\n",
    "X = np.asfortranarray(BASIS);\n",
    "X = X.ctypes.data_as(ctypes.POINTER(ctypes.c_double));\n",
    "Y = np.asfortranarray(Target);\n",
    "Y = Y.ctypes.data_as(ctypes.POINTER(ctypes.c_double));\n",
    "alpha_factors = np.asarray(Alpha);\n",
    "lambda_factors = np.asarray(Lambda);\n",
    "alpha_factors = alpha_factors.ctypes.data_as(ctypes.POINTER(ctypes.c_double));\n",
    "lambda_factors = lambda_factors.ctypes.data_as(ctypes.POINTER(ctypes.c_double));\n",
    "\n",
    "Beta = np.asfortranarray(Beta);\n",
    "Beta = Beta.ctypes.data_as(ctypes.POINTER(ctypes.c_double));\n",
    "WaldScore = np.asfortranarray(WaldScore);\n",
    "WaldScore = WaldScore.ctypes.data_as(ctypes.POINTER(ctypes.c_double));\n",
    "intercept = np.asfortranarray(intercept);\n",
    "intercept = intercept.ctypes.data_as(ctypes.POINTER(ctypes.c_double));\n",
    "N = np.asarray(n);\n",
    "N = N.ctypes.data_as(ctypes.POINTER(ctypes.c_int));\n",
    "K = np.asarray(k);\n",
    "K = K.ctypes.data_as(ctypes.POINTER(ctypes.c_int));\n",
    "\n",
    "verbose = np.asarray(verbose);\n",
    "verbose = verbose.ctypes.data_as(ctypes.POINTER(ctypes.c_int));\n",
    "residual = np.asfortranarray(residual);\n",
    "residual = residual.ctypes.data_as(ctypes.POINTER(ctypes.c_double) );"
   ]
  },
  {
   "cell_type": "code",
   "execution_count": 20,
   "id": "1cd11acc",
   "metadata": {},
   "outputs": [],
   "source": [
    "import ctypes\n",
    "import numpy as np\n",
    "from EBglmnet.loadEBglmnetLib import loadEBglmnetLib\n",
    "from scipy.stats import t as ttest"
   ]
  },
  {
   "cell_type": "code",
   "execution_count": 21,
   "id": "5903445e",
   "metadata": {},
   "outputs": [],
   "source": [
    "EBglmnetLib = loadEBglmnetLib()"
   ]
  },
  {
   "cell_type": "code",
   "execution_count": 22,
   "id": "fe6c270d",
   "metadata": {},
   "outputs": [
    {
     "data": {
      "text/plain": [
       "259"
      ]
     },
     "execution_count": 22,
     "metadata": {},
     "output_type": "execute_result"
    }
   ],
   "source": [
    "EBglmnetLib.elasticNetLinear(X,\n",
    "                             Y,\n",
    "                             lambda_factors, alpha_factors,\n",
    "                             Beta,\n",
    "                             WaldScore,\n",
    "                             intercept,\n",
    "                             N,\n",
    "                             K,\n",
    "                             verbose,\n",
    "                             residual)"
   ]
  },
  {
   "cell_type": "code",
   "execution_count": 31,
   "id": "7791f12c",
   "metadata": {},
   "outputs": [],
   "source": [
    "result  = np.ctypeslib.as_array(Beta, shape=(4, k)); # the array is row based, need to manually convert to column based\n",
    "result = result.T.reshape(k, 4)\n",
    "ToKeep = np.where(result[:, 3] != 0)[0]"
   ]
  },
  {
   "cell_type": "code",
   "execution_count": 32,
   "id": "a0fd84cd",
   "metadata": {},
   "outputs": [
    {
     "data": {
      "text/plain": [
       "array([0, 2, 3])"
      ]
     },
     "execution_count": 32,
     "metadata": {},
     "output_type": "execute_result"
    }
   ],
   "source": [
    "ToKeep"
   ]
  },
  {
   "cell_type": "code",
   "execution_count": 52,
   "id": "636e364d",
   "metadata": {},
   "outputs": [],
   "source": [
    "if len(ToKeep) == 0:\n",
    "    Blup = np.zeros((1, 4))\n",
    "else:\n",
    "    nEff = len(ToKeep)\n",
    "    Blup = result[ToKeep]\n",
    "\n",
    "t = np.abs(Blup[:, 2]) / (np.sqrt(Blup[:, 3]) + 1e-20)\n",
    "pvalue = 2 * (1 - ttest.cdf(t, df=(n - 1)))\n",
    "\n",
    "blup = np.hstack((Blup[:, 1:4], t.reshape(-1, 1), pvalue.reshape(-1, 1)))"
   ]
  },
  {
   "cell_type": "code",
   "execution_count": 54,
   "id": "67b78935",
   "metadata": {},
   "outputs": [
    {
     "name": "stdout",
     "output_type": "stream",
     "text": [
      "   predictor      beta  posterior variance   t-value       p-value\n",
      "0        1.0  0.000007        1.564910e-10  0.546778  5.870125e-01\n",
      "1        3.0 -0.324633        2.635916e-02  1.999525  5.111216e-02\n",
      "2        4.0 -0.174588        7.482910e-04  6.382337  6.008076e-08\n"
     ]
    }
   ],
   "source": [
    "colnames = [\"predictor\", \"beta\", \"posterior variance\", \"t-value\", \"p-value\"]\n",
    "fitblup = pd.DataFrame(blup, columns= colnames)\n",
    "print(fitblup)"
   ]
  },
  {
   "cell_type": "code",
   "execution_count": 47,
   "id": "e09c8d90",
   "metadata": {},
   "outputs": [],
   "source": [
    "#blup = np.column_stack((blup, t, pvalue))\n"
   ]
  },
  {
   "cell_type": "markdown",
   "id": "67c30e83",
   "metadata": {},
   "source": [
    "#\n",
    "# Binary EBGlmnet\n",
    "\n",
    "$\\color{red}{\\text{# read input data here}}$\n"
   ]
  },
  {
   "cell_type": "code",
   "execution_count": 1,
   "id": "46521a4e",
   "metadata": {},
   "outputs": [],
   "source": [
    "import os\n",
    "import  numpy as np\n",
    "import ctypes\n",
    "import pandas as pd"
   ]
  },
  {
   "cell_type": "code",
   "execution_count": 2,
   "id": "86953e0d",
   "metadata": {},
   "outputs": [],
   "source": [
    "\n",
    "\n",
    "EBglmnet_so = 'EBglmnet.cpython-311-darwin.so'\n",
    "currDir = os.getcwd()\n",
    "\n",
    "EBglmnet_so = currDir + '/EBglmnet/EBglmnet.cpython-311-darwin.so'\n",
    "EBglmnetLib = ctypes.cdll.LoadLibrary(EBglmnet_so)"
   ]
  },
  {
   "cell_type": "code",
   "execution_count": 3,
   "id": "d172d172",
   "metadata": {},
   "outputs": [],
   "source": [
    "baseDataDir = './data/'\n",
    "\n",
    "\n",
    "\n",
    "# Read the CSV file using pandas\n",
    "df = pd.read_csv(baseDataDir + 'statex77.csv')\n",
    "\n",
    "\n",
    "from EBglmnet.EBelasticNet import EBelasticNet_Gaussian\n",
    "Target = df['Life Exp']\n",
    "BASIS = df[['Population', 'Income', 'Illiteracy', 'Murder', 'HS Grad', 'Frost', 'Area']]"
   ]
  },
  {
   "cell_type": "code",
   "execution_count": 4,
   "id": "836175a4",
   "metadata": {},
   "outputs": [],
   "source": [
    "y = Target.copy()\n",
    "ave = np.mean(Target)\n",
    "for i in range(len(Target)):\n",
    "    if Target[i]>= ave: y.at[i] = 1.0\n",
    "    else: y.at[i] = 0.0\n",
    "        "
   ]
  },
  {
   "cell_type": "code",
   "execution_count": 5,
   "id": "56990124",
   "metadata": {},
   "outputs": [
    {
     "data": {
      "text/plain": [
       "0    69.05\n",
       "1    69.31\n",
       "2    70.55\n",
       "3    70.66\n",
       "4    71.71\n",
       "Name: Life Exp, dtype: float64"
      ]
     },
     "execution_count": 5,
     "metadata": {},
     "output_type": "execute_result"
    }
   ],
   "source": [
    "Target.head()"
   ]
  },
  {
   "cell_type": "code",
   "execution_count": 6,
   "id": "c589af9c",
   "metadata": {},
   "outputs": [],
   "source": [
    "logL = np.ones(5)\n",
    "logL[2] = -logL[2]"
   ]
  },
  {
   "cell_type": "code",
   "execution_count": 7,
   "id": "907006f0",
   "metadata": {},
   "outputs": [
    {
     "data": {
      "text/plain": [
       "array([ 1.,  1., -1.,  1.,  1.])"
      ]
     },
     "execution_count": 7,
     "metadata": {},
     "output_type": "execute_result"
    }
   ],
   "source": [
    "logL"
   ]
  },
  {
   "cell_type": "code",
   "execution_count": 10,
   "id": "f3769c00",
   "metadata": {},
   "outputs": [],
   "source": [
    "logL[3] = 4"
   ]
  },
  {
   "cell_type": "markdown",
   "id": "9d257cb0",
   "metadata": {},
   "source": [
    "## EB elastic net"
   ]
  },
  {
   "cell_type": "code",
   "execution_count": 3,
   "id": "23e953f7",
   "metadata": {},
   "outputs": [],
   "source": [
    "from EBglmnet.EBelasticNet import EBelasticNet_Gaussian, EBelasticNet_Binomial"
   ]
  },
  {
   "cell_type": "code",
   "execution_count": 9,
   "id": "1410a928",
   "metadata": {},
   "outputs": [],
   "source": [
    "Lambda = 0.1\n",
    "Alpha = 0.1\n",
    "output = EBelasticNet_Binomial(BASIS.to_numpy(), Target.to_numpy(), Lambda, Alpha, verbose=0)"
   ]
  },
  {
   "cell_type": "code",
   "execution_count": 10,
   "id": "b4482bd4",
   "metadata": {},
   "outputs": [
    {
     "data": {
      "text/plain": [
       "dict_keys(['fit', 'WaldScore', 'Intercept', 'logLikelihood', 'prior', 'model', 'hyperparameters'])"
      ]
     },
     "execution_count": 10,
     "metadata": {},
     "output_type": "execute_result"
    }
   ],
   "source": [
    "output.keys()"
   ]
  },
  {
   "cell_type": "code",
   "execution_count": 11,
   "id": "addad21f",
   "metadata": {},
   "outputs": [
    {
     "name": "stdout",
     "output_type": "stream",
     "text": [
      "{'fit':    predictor      beta  posterior variance   t-value   p-value\n",
      "0        4.0 -0.531666            0.018311  3.928997  0.000267, 'WaldScore': 15.437312670490035, 'Intercept': 3.59105770353709, 'logLikelihood': -20.709708142677258, 'prior': 'elastic net', 'model': 'EBelasticNet Binomial Model', 'hyperparameters': [0.1, 0.1]}\n"
     ]
    }
   ],
   "source": [
    "print(output)"
   ]
  },
  {
   "cell_type": "code",
   "execution_count": 13,
   "id": "7c8e2d70",
   "metadata": {},
   "outputs": [
    {
     "data": {
      "text/plain": [
       "2"
      ]
     },
     "execution_count": 13,
     "metadata": {},
     "output_type": "execute_result"
    }
   ],
   "source": [
    "len(np.unique(Target))"
   ]
  },
  {
   "cell_type": "markdown",
   "id": "98d5d8a8",
   "metadata": {},
   "source": [
    "##\n",
    "## EBlasso "
   ]
  },
  {
   "cell_type": "code",
   "execution_count": 6,
   "id": "d7f7f8b8",
   "metadata": {},
   "outputs": [],
   "source": [
    "from EBglmnet.EBlassoNEG import EBlassoNEG_Gaussian, EBlassoNEG_Binomial\n"
   ]
  },
  {
   "cell_type": "code",
   "execution_count": 7,
   "id": "2625a37a",
   "metadata": {},
   "outputs": [],
   "source": [
    "gamma_a = 0.1\n",
    "gamma_b = 0.1\n",
    "output = EBlassoNEG_Binomial(BASIS.to_numpy(), Target.to_numpy(), gamma_a, gamma_b, verbose=0)"
   ]
  },
  {
   "cell_type": "code",
   "execution_count": 8,
   "id": "439f8e36",
   "metadata": {},
   "outputs": [
    {
     "data": {
      "text/plain": [
       "{'fit':    predictor      beta  posterior variance   t-value   p-value\n",
       " 0        4.0 -0.531666            0.018311  3.928997  0.000267,\n",
       " 'WaldScore': 15.437312670490035,\n",
       " 'Intercept': 3.59105770353709,\n",
       " 'logLikelihood': -20.709708142677258,\n",
       " 'prior': 'lassoNEG',\n",
       " 'model': 'EBlassoNEG Binomial Model',\n",
       " 'hyperparameters': [0.1, 0.1]}"
      ]
     },
     "execution_count": 8,
     "metadata": {},
     "output_type": "execute_result"
    }
   ],
   "source": [
    "output"
   ]
  },
  {
   "cell_type": "code",
   "execution_count": null,
   "id": "defd0f45",
   "metadata": {},
   "outputs": [],
   "source": []
  },
  {
   "cell_type": "markdown",
   "id": "453681b5",
   "metadata": {},
   "source": [
    "#\n",
    "# Test Function EBglmnet\n",
    "#\n"
   ]
  },
  {
   "cell_type": "code",
   "execution_count": 6,
   "id": "b8acc343",
   "metadata": {},
   "outputs": [],
   "source": [
    "from EBglmnet.EmpBayesGlmnet import EmpBayesGlmnet"
   ]
  },
  {
   "cell_type": "code",
   "execution_count": 7,
   "id": "29e542e2",
   "metadata": {},
   "outputs": [],
   "source": [
    "hyperparameters = [0.1, 0.1]\n",
    "output = EmpBayesGlmnet(BASIS.to_numpy(), Target.to_numpy(),family= \"gaussian\", prior = \"lassoNEG\",hyperparameters =hyperparameters, verbose = 0)"
   ]
  },
  {
   "cell_type": "code",
   "execution_count": 8,
   "id": "97a140f6",
   "metadata": {},
   "outputs": [
    {
     "data": {
      "text/plain": [
       "{'fit':    predictor      beta  posterior variance    t-value  p-value\n",
       " 0        4.0 -0.084348            0.000039  13.436637      0.0,\n",
       " 'WaldScore': 180.54321664559933,\n",
       " 'Intercept': 1.083131722449796,\n",
       " 'residual variance': 0.13594506841526102,\n",
       " 'prior': 'lasso-NEG',\n",
       " 'model': 'EBlassoNEG Gaussian Model',\n",
       " 'hyperparameters': [0.1, 0.1],\n",
       " 'call': {'family': 'gaussian', 'prior': 'lassoNEG', 'verbose': 0},\n",
       " 'n-obs': 50,\n",
       " 'n-vars': 7}"
      ]
     },
     "execution_count": 8,
     "metadata": {},
     "output_type": "execute_result"
    }
   ],
   "source": [
    "output"
   ]
  },
  {
   "cell_type": "code",
   "execution_count": 9,
   "id": "1e5a2f29",
   "metadata": {},
   "outputs": [],
   "source": [
    "y = Target.copy()\n",
    "ave = np.mean(Target)\n",
    "for i in range(len(Target)):\n",
    "    if Target[i]>= ave: y.at[i] = 1.0\n",
    "    else: y.at[i] = 0.0"
   ]
  },
  {
   "cell_type": "code",
   "execution_count": 10,
   "id": "906c1b57",
   "metadata": {},
   "outputs": [],
   "source": [
    "df = y.values.astype('int64')"
   ]
  },
  {
   "cell_type": "code",
   "execution_count": 11,
   "id": "d221249e",
   "metadata": {},
   "outputs": [
    {
     "name": "stdout",
     "output_type": "stream",
     "text": [
      "[0 0 0 0 1 1 1 0 0 0 1 1 0 1 1 1 0 0 0 0 1 0 1 0 0 0 1 0 1 1 0 0 0 1 0 1 1\n",
      " 0 1 0 1 0 1 1 1 0 1 0 1 0]\n"
     ]
    }
   ],
   "source": [
    "print(df)"
   ]
  },
  {
   "cell_type": "code",
   "execution_count": 12,
   "id": "4473d036",
   "metadata": {},
   "outputs": [
    {
     "name": "stderr",
     "output_type": "stream",
     "text": [
      "/Users/anhui/Documents/Python_Projects/pyEBglmnet/EBglmnet/EmpBayesGlmnet.py:148: UserWarning: hyperparameters controlling the number of nonzero effects need to be specified; run cv.EBglmnet to determine the parameters\n",
      "  warnings.warn(\n"
     ]
    }
   ],
   "source": [
    "output = EmpBayesGlmnet(BASIS.to_numpy(), df,family= \"binomial\", prior = \"lassoNEG\", verbose = 0)"
   ]
  },
  {
   "cell_type": "code",
   "execution_count": 13,
   "id": "7216f87d",
   "metadata": {},
   "outputs": [
    {
     "data": {
      "text/plain": [
       "{'fit':    predictor      beta  posterior variance   t-value   p-value\n",
       " 0        4.0  0.531666            0.018311  3.928997  0.000267,\n",
       " 'WaldScore': 15.437312670490009,\n",
       " 'Intercept': -3.5910577035370905,\n",
       " 'logLikelihood': -20.709708142677258,\n",
       " 'prior': 'lassoNEG',\n",
       " 'model': 'EBlassoNEG Binomial Model',\n",
       " 'hyperparameters': [0.5, 0.5],\n",
       " 'call': {'family': 'binomial', 'prior': 'lassoNEG', 'verbose': 0},\n",
       " 'n-obs': 50,\n",
       " 'n-vars': 7}"
      ]
     },
     "execution_count": 13,
     "metadata": {},
     "output_type": "execute_result"
    }
   ],
   "source": [
    "output"
   ]
  },
  {
   "cell_type": "code",
   "execution_count": 14,
   "id": "474d0266",
   "metadata": {},
   "outputs": [],
   "source": [
    "#dir(EmpBayesGlmnet)"
   ]
  },
  {
   "cell_type": "code",
   "execution_count": 16,
   "id": "3b79601d",
   "metadata": {},
   "outputs": [],
   "source": [
    "#print(EmpBayesGlmnet.__doc__)"
   ]
  },
  {
   "cell_type": "code",
   "execution_count": null,
   "id": "796c5008",
   "metadata": {},
   "outputs": [],
   "source": []
  },
  {
   "cell_type": "markdown",
   "id": "20bb703e",
   "metadata": {},
   "source": [
    "# \n",
    "# Test cvEBglmnet\n",
    "#"
   ]
  },
  {
   "cell_type": "code",
   "execution_count": 17,
   "id": "393522b2",
   "metadata": {},
   "outputs": [],
   "source": [
    "N = BASIS.shape[0]"
   ]
  },
  {
   "cell_type": "code",
   "execution_count": 18,
   "id": "9f6551fe",
   "metadata": {},
   "outputs": [],
   "source": [
    "kFolds = 5"
   ]
  },
  {
   "cell_type": "code",
   "execution_count": 19,
   "id": "6cae3954",
   "metadata": {},
   "outputs": [],
   "source": [
    "if N % kFolds != 0:\n",
    "    foldId = np.random.choice(\n",
    "        np.concatenate((np.repeat(np.arange(1, kFolds + 1), N // kFolds), np.arange(1, N % kFolds + 1))), N,\n",
    "        replace=False)\n",
    "else:\n",
    "    foldId = np.random.choice(np.repeat(np.arange(1, kFolds + 1), N // kFolds), N, replace=False)"
   ]
  },
  {
   "cell_type": "code",
   "execution_count": 20,
   "id": "7c51a9ca",
   "metadata": {},
   "outputs": [],
   "source": [
    "#onePairPara cv\n",
    "from EBglmnet.CVonePair import CVonePair"
   ]
  },
  {
   "cell_type": "code",
   "execution_count": 23,
   "id": "4326c82a",
   "metadata": {},
   "outputs": [],
   "source": [
    "gamma_a = 0.1\n",
    "gamma_b = 0.1\n",
    "output = CVonePair(BASIS.to_numpy(), df, kFolds = 3, hyperparameters=[gamma_a, gamma_b], prior = 'lassoNeG,',\n",
    "                   family = 'binomial',verbose=0)"
   ]
  },
  {
   "cell_type": "code",
   "execution_count": 24,
   "id": "310f8486",
   "metadata": {},
   "outputs": [
    {
     "data": {
      "text/plain": [
       "array([[1.00000000e-01, 1.00000000e-01, 7.42024636e-09, 4.32757556e-09]])"
      ]
     },
     "execution_count": 24,
     "metadata": {},
     "output_type": "execute_result"
    }
   ],
   "source": [
    "output"
   ]
  },
  {
   "cell_type": "code",
   "execution_count": 25,
   "id": "e03f82fd",
   "metadata": {},
   "outputs": [
    {
     "data": {
      "text/plain": [
       "array([[0.1       , 0.1       , 0.07532882, 0.10413073]])"
      ]
     },
     "execution_count": 25,
     "metadata": {},
     "output_type": "execute_result"
    }
   ],
   "source": [
    "output = CVonePair(BASIS.to_numpy(), Target.to_numpy(), kFolds = 3, hyperparameters=[gamma_a, gamma_b], prior = 'lassoNeG,',\n",
    "                   family = 'gaussian',verbose=0)\n",
    "output"
   ]
  },
  {
   "cell_type": "code",
   "execution_count": null,
   "id": "831fd6e5",
   "metadata": {},
   "outputs": [],
   "source": [
    "\n"
   ]
  },
  {
   "cell_type": "markdown",
   "id": "34e9dadc",
   "metadata": {},
   "source": [
    "#\n",
    "## cv functions 1 lambda_max\n"
   ]
  },
  {
   "cell_type": "code",
   "execution_count": 4,
   "id": "12be6bc1",
   "metadata": {},
   "outputs": [],
   "source": [
    "from EBglmnet.lambdaMax import lambdaMax"
   ]
  },
  {
   "cell_type": "code",
   "execution_count": 5,
   "id": "31d6585f",
   "metadata": {},
   "outputs": [],
   "source": [
    "output = lambdaMax(BASIS.to_numpy(),  Target.to_numpy())"
   ]
  },
  {
   "cell_type": "code",
   "execution_count": 6,
   "id": "e1f210af",
   "metadata": {},
   "outputs": [
    {
     "data": {
      "text/plain": [
       "0.9914203342686132"
      ]
     },
     "execution_count": 6,
     "metadata": {},
     "output_type": "execute_result"
    }
   ],
   "source": [
    "output"
   ]
  },
  {
   "cell_type": "markdown",
   "id": "6ce94f3e",
   "metadata": {},
   "source": [
    "#\n",
    "## cv function 2: EBelasticNet_GaussianCV\n"
   ]
  },
  {
   "cell_type": "code",
   "execution_count": 5,
   "id": "bb495ad5",
   "metadata": {},
   "outputs": [],
   "source": [
    "from cvEBelasticNet import EBelasticNet_GaussianCV"
   ]
  },
  {
   "cell_type": "code",
   "execution_count": 6,
   "id": "3de7e51e",
   "metadata": {},
   "outputs": [
    {
     "name": "stdout",
     "output_type": "stream",
     "text": [
      "Empirical Bayes Elastic Net Linear Model: 5 fold cross-validation\n",
      "Testing alpha 1 / 9 :   alpha: 0.9 \tlambda: 0.00778026992126472    minimum square error: 0.3060177444021274\n",
      "Testing alpha 2 / 9 :   alpha: 0.8 \tlambda: 0.00778026992126472    minimum square error: 0.3055686544034603\n",
      "Testing alpha 3 / 9 :   alpha: 0.7000000000000001 \tlambda: 0.012633421322759325    minimum square error: 0.3051179722637255\n",
      "Testing alpha 4 / 9 :   alpha: 0.6000000000000001 \tlambda: 0.012633421322759325    minimum square error: 0.3044776113991826\n",
      "Testing alpha 5 / 9 :   alpha: 0.5000000000000001 \tlambda: 0.012633421322759325    minimum square error: 0.30341813007263\n",
      "Testing alpha 6 / 9 :   alpha: 0.40000000000000013 \tlambda: 0.012633421322759325    minimum square error: 0.30252467454555837\n",
      "Testing alpha 7 / 9 :   alpha: 0.30000000000000016 \tlambda: 0.012633421322759325    minimum square error: 0.302005443108068\n",
      "Testing alpha 8 / 9 :   alpha: 0.20000000000000018 \tlambda: 0.012633421322759325    minimum square error: 0.3014908130194365\n",
      "Testing alpha 9 / 9 :   alpha: 0.1000000000000002 \tlambda: 0.012633421322759325    minimum square error: 0.30073130246963603\n"
     ]
    }
   ],
   "source": [
    "output = EBelasticNet_GaussianCV(BASIS.to_numpy(),  Target.to_numpy() )"
   ]
  },
  {
   "cell_type": "code",
   "execution_count": 7,
   "id": "ea8e79a4",
   "metadata": {},
   "outputs": [
    {
     "data": {
      "text/plain": [
       "{'CrossValidation':      alpha    lambda  Mean Square Error  standard error\n",
       " 0      0.9  0.991420           0.694920        0.651845\n",
       " 1      0.9  0.610564           0.505154        0.579169\n",
       " 2      0.9  0.376015           0.416501        0.545605\n",
       " 3      0.9  0.231568           0.386728        0.537044\n",
       " 4      0.9  0.142611           0.363536        0.531962\n",
       " ..     ...       ...                ...             ...\n",
       " 175    0.1  0.000689           0.308144        0.408258\n",
       " 176    0.1  0.000424           0.308466        0.408011\n",
       " 177    0.1  0.000261           0.308667        0.407859\n",
       " 178    0.1  0.000161           0.308792        0.407765\n",
       " 179    0.1  0.000099           0.308870        0.407707\n",
       " \n",
       " [180 rows x 4 columns],\n",
       " 'optimal hyperparameter': [0.1000000000000002, 0.012633421322759325]}"
      ]
     },
     "execution_count": 7,
     "metadata": {},
     "output_type": "execute_result"
    }
   ],
   "source": [
    "output"
   ]
  },
  {
   "cell_type": "code",
   "execution_count": 13,
   "id": "151a7311",
   "metadata": {},
   "outputs": [
    {
     "data": {
      "text/plain": [
       "0    0.0\n",
       "1    0.0\n",
       "2    0.0\n",
       "3    0.0\n",
       "4    1.0\n",
       "Name: Life Exp, dtype: float64"
      ]
     },
     "execution_count": 13,
     "metadata": {},
     "output_type": "execute_result"
    }
   ],
   "source": [
    "y.head()"
   ]
  },
  {
   "cell_type": "markdown",
   "id": "94569404",
   "metadata": {},
   "source": [
    "#\n",
    "## cv function 3: EBelasticNet_BinomialCV\n"
   ]
  },
  {
   "cell_type": "code",
   "execution_count": 14,
   "id": "55935c36",
   "metadata": {},
   "outputs": [],
   "source": [
    "from cvEBelasticNet import EBelasticNet_BinomialCV"
   ]
  },
  {
   "cell_type": "code",
   "execution_count": 16,
   "id": "f556b92f",
   "metadata": {},
   "outputs": [
    {
     "name": "stdout",
     "output_type": "stream",
     "text": [
      "Empirical Bayes Elastic Net Binomial Model: 5 fold cross-validation\n"
     ]
    }
   ],
   "source": [
    "output = EBelasticNet_BinomialCV(BASIS.to_numpy(),  y.to_numpy() )"
   ]
  },
  {
   "cell_type": "code",
   "execution_count": 17,
   "id": "5d909c57",
   "metadata": {},
   "outputs": [
    {
     "data": {
      "text/plain": [
       "{'CrossValidation':      alpha    lambda          logL  standard error\n",
       " 0      0.9  0.720703 -7.420246e-09    3.352126e-09\n",
       " 1      0.9  0.443844 -7.420246e-09    3.352126e-09\n",
       " 2      0.9  0.273340 -7.420246e-09    3.352126e-09\n",
       " 3      0.9  0.168336 -7.420246e-09    3.352126e-09\n",
       " 4      0.9  0.103670 -7.420246e-09    3.352126e-09\n",
       " ..     ...       ...           ...             ...\n",
       " 175    0.1  0.000501 -7.420246e-09    3.352126e-09\n",
       " 176    0.1  0.000309 -7.420246e-09    3.352126e-09\n",
       " 177    0.1  0.000190 -7.420246e-09    3.352126e-09\n",
       " 178    0.1  0.000117 -7.420246e-09    3.352126e-09\n",
       " 179    0.1  0.000072 -7.420246e-09    3.352126e-09\n",
       " \n",
       " [180 rows x 4 columns],\n",
       " 'optimal hyperparameter': [0.9, 0.7207029145067205]}"
      ]
     },
     "execution_count": 17,
     "metadata": {},
     "output_type": "execute_result"
    }
   ],
   "source": [
    "output"
   ]
  },
  {
   "cell_type": "code",
   "execution_count": null,
   "id": "f7927506",
   "metadata": {},
   "outputs": [],
   "source": []
  },
  {
   "cell_type": "markdown",
   "id": "b23f4c9e",
   "metadata": {},
   "source": [
    "#\n",
    "## cv function 4:  EBlassoNEG_GaussianCV\n"
   ]
  },
  {
   "cell_type": "code",
   "execution_count": 5,
   "id": "a1ea0f80",
   "metadata": {},
   "outputs": [],
   "source": [
    "from cvEBlassoNEG import EBlassoNEG_GaussianCV"
   ]
  },
  {
   "cell_type": "code",
   "execution_count": 6,
   "id": "4a4c4cda",
   "metadata": {},
   "outputs": [],
   "source": [
    "output = EBlassoNEG_GaussianCV(BASIS.to_numpy(),  y.to_numpy() )"
   ]
  },
  {
   "cell_type": "code",
   "execution_count": 7,
   "id": "4df3f7ab",
   "metadata": {},
   "outputs": [
    {
     "data": {
      "text/plain": [
       "{'CrossValidation':        a     b  Mean Square Error  standard error\n",
       " 0   0.01  0.01           0.078171        0.094160\n",
       " 1   0.05  0.05           0.079067        0.089737\n",
       " 2   0.10  0.10           0.078626        0.086940\n",
       " 3   0.50  0.50           0.079642        0.074908\n",
       " 4   1.00  1.00           0.078601        0.077867\n",
       " 5  -0.01  0.01           0.078174        0.094187\n",
       " 6  -0.10  0.01           0.076646        0.090490\n",
       " 7  -0.20  0.01           0.076756        0.090682\n",
       " 8  -0.30  0.01           0.076833        0.090876\n",
       " 9  -0.40  0.01           0.074236        0.086157\n",
       " 10 -0.50  0.01           0.071888        0.087452\n",
       " 11 -0.60  0.01           0.072250        0.087749\n",
       " 12 -0.70  0.01           0.070885        0.064893\n",
       " 13 -0.80  0.01           0.076384        0.060633\n",
       " 14 -0.90  0.01           0.079440        0.060635\n",
       " 15 -0.70  0.05           0.088259        0.066889\n",
       " 16 -0.70  0.10           0.089200        0.065928\n",
       " 17 -0.70  0.50           0.086651        0.055961\n",
       " 18 -0.70  1.00           0.086694        0.056150,\n",
       " 'optimal hyperparameter': array([-0.7 ,  0.01])}"
      ]
     },
     "execution_count": 7,
     "metadata": {},
     "output_type": "execute_result"
    }
   ],
   "source": [
    "output"
   ]
  },
  {
   "cell_type": "code",
   "execution_count": 7,
   "id": "00e908f5",
   "metadata": {},
   "outputs": [
    {
     "data": {
      "text/plain": [
       "0    0.0\n",
       "1    0.0\n",
       "2    0.0\n",
       "3    0.0\n",
       "4    1.0\n",
       "Name: Life Exp, dtype: float64"
      ]
     },
     "execution_count": 7,
     "metadata": {},
     "output_type": "execute_result"
    }
   ],
   "source": [
    "y.head()"
   ]
  },
  {
   "cell_type": "markdown",
   "id": "c7acafd7",
   "metadata": {},
   "source": [
    "#\n",
    "## cv function 5: EBlassoNEG_BinomialCV\n"
   ]
  },
  {
   "cell_type": "code",
   "execution_count": 6,
   "id": "5a4b650e",
   "metadata": {},
   "outputs": [],
   "source": [
    "from cvEBlassoNEG import EBlassoNEG_BinomialCV"
   ]
  },
  {
   "cell_type": "code",
   "execution_count": 8,
   "id": "d2e4c974",
   "metadata": {},
   "outputs": [],
   "source": [
    "output = EBlassoNEG_BinomialCV(BASIS.to_numpy(),  y.to_numpy() )"
   ]
  },
  {
   "cell_type": "code",
   "execution_count": 9,
   "id": "c00527d6",
   "metadata": {},
   "outputs": [
    {
     "data": {
      "text/plain": [
       "{'CrossValidation':        a     b  logLikelihood  standard error\n",
       " 0   0.01  0.01  -7.420246e-09    3.352126e-09\n",
       " 1   0.05  0.05  -7.420246e-09    3.352126e-09\n",
       " 2   0.10  0.10  -7.420246e-09    3.352126e-09\n",
       " 3   0.50  0.50  -7.420246e-09    3.352126e-09\n",
       " 4   1.00  1.00  -7.420246e-09    3.352126e-09\n",
       " 5  -0.01  0.01  -7.420246e-09    3.352126e-09\n",
       " 6  -0.10  0.01  -7.420246e-09    3.352126e-09\n",
       " 7  -0.20  0.01  -7.420246e-09    3.352126e-09\n",
       " 8  -0.30  0.01  -7.420246e-09    3.352126e-09\n",
       " 9  -0.40  0.01  -7.420246e-09    3.352126e-09\n",
       " 10 -0.50  0.01  -7.420246e-09    3.352126e-09\n",
       " 11 -0.60  0.01  -7.420246e-09    3.352126e-09\n",
       " 12 -0.70  0.01  -7.420246e-09    3.352126e-09\n",
       " 13 -0.80  0.01  -7.420246e-09    3.352126e-09\n",
       " 14 -0.90  0.01  -7.420246e-09    3.352126e-09\n",
       " 15  0.01  0.05   7.420246e-09    3.352126e-09\n",
       " 16  0.01  0.10   7.420246e-09    3.352126e-09\n",
       " 17  0.01  0.50   7.420246e-09    3.352126e-09\n",
       " 18  0.01  1.00   7.420246e-09    3.352126e-09,\n",
       " 'optimal hyperparameter': array([0.01, 0.05])}"
      ]
     },
     "execution_count": 9,
     "metadata": {},
     "output_type": "execute_result"
    }
   ],
   "source": [
    "output"
   ]
  },
  {
   "cell_type": "code",
   "execution_count": null,
   "id": "257a5ddf",
   "metadata": {},
   "outputs": [],
   "source": []
  },
  {
   "cell_type": "markdown",
   "id": "3e6cccf1",
   "metadata": {},
   "source": [
    "#\n",
    "## cv function 6: EBlassoNE_GaussianCV\n"
   ]
  },
  {
   "cell_type": "code",
   "execution_count": 5,
   "id": "184abb04",
   "metadata": {},
   "outputs": [],
   "source": [
    "from cvEBlassoNE import EBlassoNE_GaussianCV"
   ]
  },
  {
   "cell_type": "code",
   "execution_count": 6,
   "id": "e2afaf16",
   "metadata": {},
   "outputs": [],
   "source": [
    "output = EBlassoNE_GaussianCV(BASIS.to_numpy(),  y.to_numpy() , kFolds = 5, foldId = None)"
   ]
  },
  {
   "cell_type": "code",
   "execution_count": 7,
   "id": "83683238",
   "metadata": {},
   "outputs": [
    {
     "data": {
      "text/plain": [
       "{'CrossValidation':     alpha    lambda  Mean Square Error  standard error\n",
       " 0     1.0  0.720703           0.081690        0.082273\n",
       " 1     1.0  0.443844           0.081129        0.084903\n",
       " 2     1.0  0.273340           0.080897        0.087042\n",
       " 3     1.0  0.168336           0.080780        0.088730\n",
       " 4     1.0  0.103670           0.080730        0.089972\n",
       " 5     1.0  0.063845           0.083994        0.092324\n",
       " 6     1.0  0.039319           0.085108        0.093625\n",
       " 7     1.0  0.024214           0.085880        0.094591\n",
       " 8     1.0  0.014912           0.086407        0.095324\n",
       " 9     1.0  0.009184           0.086982        0.096140\n",
       " 10    1.0  0.005656           0.087030        0.096025\n",
       " 11    1.0  0.003483           0.087232        0.096322\n",
       " 12    1.0  0.002145           0.087355        0.096511\n",
       " 13    1.0  0.001321           0.087442        0.096613\n",
       " 14    1.0  0.000814           0.086607        0.094037\n",
       " 15    1.0  0.000501           0.086362        0.093611\n",
       " 16    1.0  0.000309           0.086398        0.093649\n",
       " 17    1.0  0.000190           0.086459        0.093759\n",
       " 18    1.0  0.000117           0.086472        0.093765\n",
       " 19    1.0  0.000072           0.086469        0.093778,\n",
       " 'optimal hyperparameter': 0.10366950268607848}"
      ]
     },
     "execution_count": 7,
     "metadata": {},
     "output_type": "execute_result"
    }
   ],
   "source": [
    "output"
   ]
  },
  {
   "cell_type": "code",
   "execution_count": null,
   "id": "c9b6d970",
   "metadata": {},
   "outputs": [],
   "source": []
  },
  {
   "cell_type": "markdown",
   "id": "0d77587c",
   "metadata": {},
   "source": [
    "#\n",
    "## cv function 7: EBlassoNE_BinomialCV"
   ]
  },
  {
   "cell_type": "code",
   "execution_count": 5,
   "id": "a6850127",
   "metadata": {},
   "outputs": [],
   "source": [
    "from cvEBlassoNE import EBlassoNE_BinomialCV"
   ]
  },
  {
   "cell_type": "code",
   "execution_count": 7,
   "id": "2d6ca89d",
   "metadata": {},
   "outputs": [],
   "source": [
    "output = EBlassoNE_BinomialCV(BASIS.to_numpy(),  y.to_numpy() , kFolds = 5, foldId = None)"
   ]
  },
  {
   "cell_type": "code",
   "execution_count": 8,
   "id": "c378599e",
   "metadata": {},
   "outputs": [
    {
     "data": {
      "text/plain": [
       "{'CrossValidation':     alpha    lambda          logL  standard error\n",
       " 0     1.0  0.720703 -7.420246e-09    3.352126e-09\n",
       " 1     1.0  0.443844 -7.420246e-09    3.352126e-09\n",
       " 2     1.0  0.273340 -7.420246e-09    3.352126e-09\n",
       " 3     1.0  0.168336 -7.420246e-09    3.352126e-09\n",
       " 4     1.0  0.103670 -7.420246e-09    3.352126e-09\n",
       " 5     1.0  0.063845 -7.420246e-09    3.352126e-09\n",
       " 6     1.0  0.039319 -7.420246e-09    3.352126e-09\n",
       " 7     1.0  0.024214 -7.420246e-09    3.352126e-09\n",
       " 8     1.0  0.014912 -7.420246e-09    3.352126e-09\n",
       " 9     1.0  0.009184 -7.420246e-09    3.352126e-09\n",
       " 10    1.0  0.005656 -7.420246e-09    3.352126e-09\n",
       " 11    1.0  0.003483 -7.420246e-09    3.352126e-09\n",
       " 12    1.0  0.002145 -7.420246e-09    3.352126e-09\n",
       " 13    1.0  0.001321 -7.420246e-09    3.352126e-09\n",
       " 14    1.0  0.000814 -7.420246e-09    3.352126e-09\n",
       " 15    1.0  0.000501 -7.420246e-09    3.352126e-09\n",
       " 16    1.0  0.000309 -7.420246e-09    3.352126e-09\n",
       " 17    1.0  0.000190 -7.420246e-09    3.352126e-09\n",
       " 18    1.0  0.000117 -7.420246e-09    3.352126e-09\n",
       " 19    1.0  0.000072 -7.420246e-09    3.352126e-09,\n",
       " 'optimal hyperparameter': 0.7207029145067205}"
      ]
     },
     "execution_count": 8,
     "metadata": {},
     "output_type": "execute_result"
    }
   ],
   "source": [
    "output"
   ]
  },
  {
   "cell_type": "code",
   "execution_count": null,
   "id": "2fa72e18",
   "metadata": {},
   "outputs": [],
   "source": []
  },
  {
   "cell_type": "markdown",
   "id": "765999f0",
   "metadata": {},
   "source": [
    "# \n",
    "## cv function 8: cvEBglmnet\n"
   ]
  },
  {
   "cell_type": "code",
   "execution_count": 5,
   "id": "992497c7",
   "metadata": {},
   "outputs": [],
   "source": [
    "from cvEBglmnet import cv_EBglmnet"
   ]
  },
  {
   "cell_type": "code",
   "execution_count": 6,
   "id": "12cd868a",
   "metadata": {},
   "outputs": [
    {
     "ename": "AttributeError",
     "evalue": "'dict' object has no attribute 'EBglmnet'",
     "output_type": "error",
     "traceback": [
      "\u001b[0;31m---------------------------------------------------------------------------\u001b[0m",
      "\u001b[0;31mAttributeError\u001b[0m                            Traceback (most recent call last)",
      "Cell \u001b[0;32mIn[6], line 1\u001b[0m\n\u001b[0;32m----> 1\u001b[0m output \u001b[38;5;241m=\u001b[39m \u001b[43mcv_EBglmnet\u001b[49m\u001b[43m(\u001b[49m\u001b[43mBASIS\u001b[49m\u001b[38;5;241;43m.\u001b[39;49m\u001b[43mto_numpy\u001b[49m\u001b[43m(\u001b[49m\u001b[43m)\u001b[49m\u001b[43m,\u001b[49m\u001b[43m  \u001b[49m\u001b[43my\u001b[49m\u001b[38;5;241;43m.\u001b[39;49m\u001b[43mto_numpy\u001b[49m\u001b[43m(\u001b[49m\u001b[43m)\u001b[49m\u001b[43m \u001b[49m\u001b[43m,\u001b[49m\u001b[43m \u001b[49m\u001b[43mkFolds\u001b[49m\u001b[43m \u001b[49m\u001b[38;5;241;43m=\u001b[39;49m\u001b[43m \u001b[49m\u001b[38;5;241;43m5\u001b[39;49m\u001b[43m,\u001b[49m\u001b[43m \u001b[49m\u001b[43mfoldId\u001b[49m\u001b[43m \u001b[49m\u001b[38;5;241;43m=\u001b[39;49m\u001b[43m \u001b[49m\u001b[38;5;28;43;01mNone\u001b[39;49;00m\u001b[43m)\u001b[49m\n",
      "File \u001b[0;32m~/Documents/Python_Projects/pyEBglmnet/EBglmnet/cvEBglmnet.py:236\u001b[0m, in \u001b[0;36mcv_EBglmnet\u001b[0;34m(x, y, family, prior, kFolds, foldId, verbose)\u001b[0m\n\u001b[1;32m    234\u001b[0m output[\u001b[38;5;124m\"\u001b[39m\u001b[38;5;124mnobs\u001b[39m\u001b[38;5;124m\"\u001b[39m] \u001b[38;5;241m=\u001b[39m nobs\n\u001b[1;32m    235\u001b[0m output[\u001b[38;5;124m\"\u001b[39m\u001b[38;5;124mkFolds\u001b[39m\u001b[38;5;124m\"\u001b[39m] \u001b[38;5;241m=\u001b[39m kFolds\n\u001b[0;32m--> 236\u001b[0m output \u001b[38;5;241m=\u001b[39m \u001b[43mcv\u001b[49m\u001b[38;5;241;43m.\u001b[39;49m\u001b[43mEBglmnet\u001b[49m(output)\n\u001b[1;32m    238\u001b[0m \u001b[38;5;28;01mreturn\u001b[39;00m output\n",
      "\u001b[0;31mAttributeError\u001b[0m: 'dict' object has no attribute 'EBglmnet'"
     ]
    }
   ],
   "source": [
    "output = cv_EBglmnet(BASIS.to_numpy(),  y.to_numpy() , kFolds = 5, foldId = None)"
   ]
  },
  {
   "cell_type": "code",
   "execution_count": null,
   "id": "93c8ad90",
   "metadata": {},
   "outputs": [],
   "source": []
  },
  {
   "cell_type": "code",
   "execution_count": null,
   "id": "133d5343",
   "metadata": {},
   "outputs": [],
   "source": []
  },
  {
   "cell_type": "code",
   "execution_count": null,
   "id": "81c05220",
   "metadata": {},
   "outputs": [],
   "source": []
  },
  {
   "cell_type": "code",
   "execution_count": null,
   "id": "46e7bf63",
   "metadata": {},
   "outputs": [],
   "source": []
  },
  {
   "cell_type": "code",
   "execution_count": null,
   "id": "9e6b4e9c",
   "metadata": {},
   "outputs": [],
   "source": []
  },
  {
   "cell_type": "code",
   "execution_count": null,
   "id": "7f000fe4",
   "metadata": {},
   "outputs": [],
   "source": []
  },
  {
   "cell_type": "markdown",
   "id": "cfa1c076",
   "metadata": {},
   "source": [
    "# debugging"
   ]
  },
  {
   "cell_type": "code",
   "execution_count": 12,
   "id": "dabda919",
   "metadata": {},
   "outputs": [],
   "source": [
    "X = BASIS.to_numpy()\n",
    "y = Target.to_numpy()\n",
    "kFolds = 5\n",
    "foldId = None\n",
    "verbose = 1\n",
    "from lambdaMax import lambdaMax\n",
    "from CVonePair import CVonePair"
   ]
  },
  {
   "cell_type": "code",
   "execution_count": 13,
   "id": "63145970",
   "metadata": {},
   "outputs": [
    {
     "name": "stdout",
     "output_type": "stream",
     "text": [
      "Empirical Bayes Elastic Net Linear Model: 5 fold cross-validation\n"
     ]
    }
   ],
   "source": [
    "nStep = 19\n",
    "print(\"Empirical Bayes Elastic Net Linear Model:\", kFolds, \"fold cross-validation\")\n",
    "N , K = X.shape\n",
    "Epis = False\n",
    "\n",
    "if foldId is None:\n",
    "    if N % kFolds != 0:\n",
    "        foldId = np.concatenate([np.repeat(np.arange(1, kFolds), N // kFolds), np.arange(1, N % kFolds + 1)])\n",
    "    else:\n",
    "        foldId = np.repeat(np.arange(1, kFolds), N // kFolds)\n",
    "\n",
    "lambda_Max = lambdaMax(X, y, Epis)\n",
    "lambda_Min = np.log(0.0001 * lambda_Max)\n",
    "step = (np.log(lambda_Max) - lambda_Min) / nStep\n",
    "Lambda = np.exp(np.arange(np.log(lambda_Max), lambda_Min - step, -step))\n",
    "N_step = len(Lambda)\n",
    "\n",
    "Alpha = np.arange(0.9, 0, -0.1)\n",
    "nAlpha = len(Alpha)\n",
    "\n",
    "MSEcv = np.zeros((N_step * nAlpha, 4))\n",
    "MSEeachAlpha = np.zeros((nAlpha, 4))\n",
    "MeanSqErr = np.zeros((kFolds, 1))\n",
    "SSE1Alpha = np.full((N_step, 2), 1e10)\n",
    "\n",
    "nLogL = np.zeros(4)\n",
    "pr = \"elastic net\"\n",
    "model = \"gaussian\"\n",
    "\n",
    "step = 1"
   ]
  },
  {
   "cell_type": "code",
   "execution_count": 16,
   "id": "9af99c91",
   "metadata": {},
   "outputs": [],
   "source": [
    "i_alpha = 0\n",
    "alpha = Alpha[i_alpha]\n",
    "SSE1Alpha = np.full((N_step, 2), 1e10)\n",
    "i_s = 0"
   ]
  },
  {
   "cell_type": "code",
   "execution_count": 17,
   "id": "141026c5",
   "metadata": {},
   "outputs": [
    {
     "name": "stdout",
     "output_type": "stream",
     "text": [
      "Empirical Bayes Lasso/Elastic Net Logistic Model: 5 fold cross-validation\n"
     ]
    }
   ],
   "source": [
    "lambda_ = Lambda[i_s]\n",
    "min_index = np.argmin(SSE1Alpha[:(i_s+1), 0])\n",
    "previousL = SSE1Alpha[min_index, 0] + SSE1Alpha[min_index, 1]\n",
    "hyperpara = [alpha, lambda_]\n",
    "logL = CVonePair(X, y, kFolds, foldId, hyperpara, pr, model, verbose) #logL is numpy arrary\n"
   ]
  },
  {
   "cell_type": "code",
   "execution_count": 18,
   "id": "5a1e84a1",
   "metadata": {},
   "outputs": [
    {
     "data": {
      "text/plain": [
       "array([[0.9       , 0.99142033, 0.69492026, 0.65184496]])"
      ]
     },
     "execution_count": 18,
     "metadata": {},
     "output_type": "execute_result"
    }
   ],
   "source": [
    "logL\n"
   ]
  },
  {
   "cell_type": "code",
   "execution_count": 23,
   "id": "40bb1ca4",
   "metadata": {},
   "outputs": [],
   "source": [
    "SSE1Alpha[i_s, :] = logL[0][-2:].reshape(1, 2)"
   ]
  },
  {
   "cell_type": "code",
   "execution_count": 25,
   "id": "cfc93757",
   "metadata": {},
   "outputs": [
    {
     "data": {
      "text/plain": [
       "array([[6.94920256e-01, 6.51844958e-01],\n",
       "       [1.00000000e+10, 1.00000000e+10],\n",
       "       [1.00000000e+10, 1.00000000e+10],\n",
       "       [1.00000000e+10, 1.00000000e+10],\n",
       "       [1.00000000e+10, 1.00000000e+10],\n",
       "       [1.00000000e+10, 1.00000000e+10],\n",
       "       [1.00000000e+10, 1.00000000e+10],\n",
       "       [1.00000000e+10, 1.00000000e+10],\n",
       "       [1.00000000e+10, 1.00000000e+10],\n",
       "       [1.00000000e+10, 1.00000000e+10],\n",
       "       [1.00000000e+10, 1.00000000e+10],\n",
       "       [1.00000000e+10, 1.00000000e+10],\n",
       "       [1.00000000e+10, 1.00000000e+10],\n",
       "       [1.00000000e+10, 1.00000000e+10],\n",
       "       [1.00000000e+10, 1.00000000e+10],\n",
       "       [1.00000000e+10, 1.00000000e+10],\n",
       "       [1.00000000e+10, 1.00000000e+10],\n",
       "       [1.00000000e+10, 1.00000000e+10],\n",
       "       [1.00000000e+10, 1.00000000e+10],\n",
       "       [1.00000000e+10, 1.00000000e+10]])"
      ]
     },
     "execution_count": 25,
     "metadata": {},
     "output_type": "execute_result"
    }
   ],
   "source": [
    "SSE1Alpha"
   ]
  },
  {
   "cell_type": "code",
   "execution_count": 21,
   "id": "a50c508e",
   "metadata": {},
   "outputs": [
    {
     "data": {
      "text/plain": [
       "array([0.9       , 0.99142033, 0.69492026, 0.65184496])"
      ]
     },
     "execution_count": 21,
     "metadata": {},
     "output_type": "execute_result"
    }
   ],
   "source": [
    "logL[0]"
   ]
  },
  {
   "cell_type": "code",
   "execution_count": 22,
   "id": "fc117473",
   "metadata": {},
   "outputs": [
    {
     "data": {
      "text/plain": [
       "0.9"
      ]
     },
     "execution_count": 22,
     "metadata": {},
     "output_type": "execute_result"
    }
   ],
   "source": [
    "logL[0][0]"
   ]
  },
  {
   "cell_type": "code",
   "execution_count": 19,
   "id": "e05193fa",
   "metadata": {},
   "outputs": [],
   "source": [
    "N, K = BASIS.shape"
   ]
  },
  {
   "cell_type": "code",
   "execution_count": 22,
   "id": "0ec2f84e",
   "metadata": {},
   "outputs": [],
   "source": [
    "kFolds = 3"
   ]
  },
  {
   "cell_type": "code",
   "execution_count": null,
   "id": "6e4a56a1",
   "metadata": {},
   "outputs": [],
   "source": []
  },
  {
   "cell_type": "code",
   "execution_count": 23,
   "id": "6ff62dc0",
   "metadata": {},
   "outputs": [],
   "source": [
    "if N % kFolds != 0:\n",
    "    foldId = np.random.choice(\n",
    "        np.concatenate([np.repeat(np.arange(1, kFolds + 1), N // kFolds), np.arange(1, N % kFolds + 1)]),\n",
    "        size=N, replace=False)\n",
    "else:\n",
    "    foldId = np.random.choice(np.repeat(np.arange(1, kFolds + 1), N // kFolds), size=N, replace=False)"
   ]
  },
  {
   "cell_type": "code",
   "execution_count": 24,
   "id": "4bd3fa65",
   "metadata": {},
   "outputs": [
    {
     "data": {
      "text/plain": [
       "array([2, 2, 1, 3, 1, 3, 2, 2, 2, 1, 2, 3, 3, 1, 3, 2, 2, 3, 3, 1, 3, 3,\n",
       "       2, 1, 2, 3, 1, 1, 1, 1, 1, 2, 2, 3, 2, 1, 2, 3, 2, 2, 1, 2, 3, 3,\n",
       "       1, 3, 3, 1, 1, 1])"
      ]
     },
     "execution_count": 24,
     "metadata": {},
     "output_type": "execute_result"
    }
   ],
   "source": [
    "foldId"
   ]
  },
  {
   "cell_type": "code",
   "execution_count": 25,
   "id": "79c3ef1e",
   "metadata": {},
   "outputs": [],
   "source": [
    "if N % kFolds != 0:\n",
    "    foldId = np.concatenate([np.repeat(np.arange(1, kFolds), N // kFolds), np.arange(1, N % kFolds + 1)])\n",
    "else:\n",
    "    foldId = np.repeat(np.arange(1, kFolds), N // kFolds)"
   ]
  },
  {
   "cell_type": "code",
   "execution_count": 26,
   "id": "46958711",
   "metadata": {},
   "outputs": [
    {
     "data": {
      "text/plain": [
       "array([1, 1, 1, 1, 1, 1, 1, 1, 1, 1, 1, 1, 1, 1, 1, 1, 2, 2, 2, 2, 2, 2,\n",
       "       2, 2, 2, 2, 2, 2, 2, 2, 2, 2, 1, 2])"
      ]
     },
     "execution_count": 26,
     "metadata": {},
     "output_type": "execute_result"
    }
   ],
   "source": [
    "foldId"
   ]
  },
  {
   "cell_type": "code",
   "execution_count": 27,
   "id": "f18cd3b9",
   "metadata": {},
   "outputs": [
    {
     "name": "stdout",
     "output_type": "stream",
     "text": [
      "[0.01 5.   0.1  0.5  1.  ]\n"
     ]
    }
   ],
   "source": [
    "a_r1 = np.array([0.01, 0.05, 0.1, 0.5, 1])\n",
    "b_r1 = a_r1\n",
    "a_r1[1] = 5\n",
    "print(b_r1)"
   ]
  },
  {
   "cell_type": "markdown",
   "id": "f390c55e",
   "metadata": {},
   "source": [
    "#\n",
    "## cv function 4: "
   ]
  }
 ],
 "metadata": {
  "kernelspec": {
   "display_name": "sparseSEM-env",
   "language": "python",
   "name": "sparsesem-env"
  },
  "language_info": {
   "codemirror_mode": {
    "name": "ipython",
    "version": 3
   },
   "file_extension": ".py",
   "mimetype": "text/x-python",
   "name": "python",
   "nbconvert_exporter": "python",
   "pygments_lexer": "ipython3",
   "version": "3.10.11"
  }
 },
 "nbformat": 4,
 "nbformat_minor": 5
}
